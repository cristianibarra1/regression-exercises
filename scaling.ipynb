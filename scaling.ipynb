{
 "cells": [
  {
   "cell_type": "markdown",
   "id": "f88d97b8",
   "metadata": {},
   "source": [
    "# Scaling Numeric Data"
   ]
  },
  {
   "cell_type": "markdown",
   "id": "6bbf5562",
   "metadata": {},
   "source": [
    "# Exercises\n",
    "\n",
    "Do your work for these exercises in a jupyter notebook named scaling. Use the zillow dataset you acquired and prepped in previous lesson. Once you are finished, you may wish to repeat the exercises on another dataset for additional practice.\n",
    "\n",
    "1)Apply the scalers we talked about in this lesson to your data and visualize the results for the unscaled and scaled distribution .\n",
    "\n",
    "2)Apply the .inverse_transform method to your scaled data. Is the resulting dataset the exact same as the original data?\n",
    "\n",
    "3)Read the documentation for sklearn's QuantileTransformer. Use normal for the output_distribution and apply this scaler to your data. Visualize the result of your data scaling.\n",
    "\n",
    "4)Use the QuantileTransformer, but omit the output_distribution argument. Visualize your results. What do you notice?\n",
    "\n",
    "5)Based on the work you've done, choose a scaling method for your dataset. Write a function within your prepare.py that accepts as input the train, validate, and test data splits, and returns the scaled versions of each. Be sure to only learn the parameters for scaling from your training data!"
   ]
  },
  {
   "cell_type": "markdown",
   "id": "af5548ab",
   "metadata": {},
   "source": [
    "# 1)Apply the scalers we talked about in this lesson to your data and visualize the results for the unscaled and scaled distribution .\n"
   ]
  },
  {
   "cell_type": "code",
   "execution_count": null,
   "id": "0771db32",
   "metadata": {},
   "outputs": [],
   "source": []
  },
  {
   "cell_type": "markdown",
   "id": "0d3c7b52",
   "metadata": {},
   "source": [
    "# 2)Apply the .inverse_transform method to your scaled data. Is the resulting dataset the exact same as the original data?\n",
    "\n"
   ]
  },
  {
   "cell_type": "code",
   "execution_count": null,
   "id": "d52cf44d",
   "metadata": {},
   "outputs": [],
   "source": []
  },
  {
   "cell_type": "markdown",
   "id": "8661043f",
   "metadata": {},
   "source": [
    "# 3)Read the documentation for sklearn's QuantileTransformer. Use normal for the output_distribution and apply this scaler to your data. Visualize the result of your data scaling.\n",
    "\n"
   ]
  },
  {
   "cell_type": "code",
   "execution_count": null,
   "id": "8df09dcf",
   "metadata": {},
   "outputs": [],
   "source": []
  },
  {
   "cell_type": "markdown",
   "id": "edffae3c",
   "metadata": {},
   "source": [
    "# 4)Use the QuantileTransformer, but omit the output_distribution argument. Visualize your results. What do you notice?\n",
    "\n"
   ]
  },
  {
   "cell_type": "code",
   "execution_count": null,
   "id": "63282c76",
   "metadata": {},
   "outputs": [],
   "source": []
  },
  {
   "cell_type": "markdown",
   "id": "76a8c2f7",
   "metadata": {},
   "source": [
    "# 5)Based on the work you've done, choose a scaling method for your dataset. Write a function within your prepare.py that accepts as input the train, validate, and test data splits, and returns the scaled versions of each. Be sure to only learn the parameters for scaling from your training data!"
   ]
  },
  {
   "cell_type": "code",
   "execution_count": null,
   "id": "cd8911da",
   "metadata": {},
   "outputs": [],
   "source": []
  }
 ],
 "metadata": {
  "kernelspec": {
   "display_name": "Python 3 (ipykernel)",
   "language": "python",
   "name": "python3"
  },
  "language_info": {
   "codemirror_mode": {
    "name": "ipython",
    "version": 3
   },
   "file_extension": ".py",
   "mimetype": "text/x-python",
   "name": "python",
   "nbconvert_exporter": "python",
   "pygments_lexer": "ipython3",
   "version": "3.9.12"
  }
 },
 "nbformat": 4,
 "nbformat_minor": 5
}
